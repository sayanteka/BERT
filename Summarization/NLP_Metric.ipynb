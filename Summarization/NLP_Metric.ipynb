{
  "nbformat": 4,
  "nbformat_minor": 0,
  "metadata": {
    "colab": {
      "provenance": []
    },
    "kernelspec": {
      "name": "python3",
      "display_name": "Python 3"
    },
    "language_info": {
      "name": "python"
    }
  },
  "cells": [
    {
      "cell_type": "markdown",
      "source": [
        "**Exact Match**"
      ],
      "metadata": {
        "id": "GWhhqqM9CyxI"
      }
    },
    {
      "cell_type": "code",
      "execution_count": null,
      "metadata": {
        "id": "Ts3cwpC_CbIg"
      },
      "outputs": [],
      "source": [
        "answers = [{'predicted': 'France', 'true': 'France.'},\n",
        "           {'predicted': 'in the 10th and 11th centuries',\n",
        "            'true': '10th and 11th centuries'},\n",
        "           {'predicted': '10th and 11th centuries', 'true': '10th and 11th centuries'},\n",
        "           {'predicted': 'Denmark, Iceland and Norway',\n",
        "            'true': 'Denmark-, Iceland and Norway'},\n",
        "           {'predicted': 'Rollo-', 'true': 'Rollo,'}]"
      ]
    },
    {
      "cell_type": "markdown",
      "source": [
        "**Exact score match is poor.Our first answer returns 'France' and 'France.', the only difference being the final punctuation which is included in the true answer. Similarly, we have Rollo- vs Rollo**"
      ],
      "metadata": {
        "id": "mAJnxLyzDfvW"
      }
    },
    {
      "cell_type": "code",
      "source": [
        "em = []\n",
        "\n",
        "for answer in answers:\n",
        "    if answer['predicted'] == answer['true']:\n",
        "        em.append(1)\n",
        "    else:\n",
        "        em.append(0)\n",
        "\n",
        "# then total up all values in em and divide by number of values\n",
        "sum(em)/len(em)"
      ],
      "metadata": {
        "colab": {
          "base_uri": "https://localhost:8080/"
        },
        "id": "BRdf1bZgDEDQ",
        "outputId": "da148bf3-f26a-4cbe-da82-5a3210cf3e5f"
      },
      "execution_count": null,
      "outputs": [
        {
          "output_type": "execute_result",
          "data": {
            "text/plain": [
              "0.2"
            ]
          },
          "metadata": {},
          "execution_count": 2
        }
      ]
    },
    {
      "cell_type": "markdown",
      "source": [
        "**In order to improve rouge score, we will use regular expression to remove any character which is not space, character or letter**"
      ],
      "metadata": {
        "id": "6Qgt19R9D1qb"
      }
    },
    {
      "cell_type": "code",
      "source": [
        "import re\n",
        "\n",
        "em = []\n",
        "\n",
        "for answer in answers:\n",
        "    pred = re.sub('[^0-9a-z ]', '', answer['predicted'].lower())\n",
        "    true = re.sub('[^0-9a-z ]', '', answer['true'].lower())\n",
        "    if pred == true:\n",
        "        em.append(1)\n",
        "    else:\n",
        "        em.append(0)\n",
        "\n",
        "# then total up all values in em and divide by number of values\n",
        "sum(em)/len(em)"
      ],
      "metadata": {
        "colab": {
          "base_uri": "https://localhost:8080/"
        },
        "id": "Pm39CIFxDPQU",
        "outputId": "799328d1-b102-4bbd-d33b-845e4c6be4d0"
      },
      "execution_count": null,
      "outputs": [
        {
          "output_type": "execute_result",
          "data": {
            "text/plain": [
              "0.8"
            ]
          },
          "metadata": {},
          "execution_count": 3
        }
      ]
    },
    {
      "cell_type": "markdown",
      "source": [
        "**Rouge Score**"
      ],
      "metadata": {
        "id": "feaLynZXTlGE"
      }
    },
    {
      "cell_type": "code",
      "source": [
        "! pip install rouge"
      ],
      "metadata": {
        "colab": {
          "base_uri": "https://localhost:8080/"
        },
        "id": "SHXx_KgYTpQb",
        "outputId": "02e5ef93-0c57-4add-d3a5-4a08f7537201"
      },
      "execution_count": null,
      "outputs": [
        {
          "output_type": "stream",
          "name": "stdout",
          "text": [
            "Collecting rouge\n",
            "  Downloading rouge-1.0.1-py3-none-any.whl (13 kB)\n",
            "Requirement already satisfied: six in /usr/local/lib/python3.10/dist-packages (from rouge) (1.16.0)\n",
            "Installing collected packages: rouge\n",
            "Successfully installed rouge-1.0.1\n"
          ]
        }
      ]
    },
    {
      "cell_type": "code",
      "source": [
        "from rouge import Rouge\n",
        "\n",
        "model_out = 'hello to the world'\n",
        "reference = 'hello world'\n",
        "\n",
        "\n",
        "rouge = Rouge()\n",
        "\n",
        "\n",
        "rouge.get_scores(model_out, reference)"
      ],
      "metadata": {
        "colab": {
          "base_uri": "https://localhost:8080/"
        },
        "id": "LmV-DiGXESL7",
        "outputId": "9fc11273-cc2d-4e21-aa89-098215613482"
      },
      "execution_count": null,
      "outputs": [
        {
          "output_type": "execute_result",
          "data": {
            "text/plain": [
              "[{'rouge-1': {'r': 1.0, 'p': 0.5, 'f': 0.6666666622222223},\n",
              "  'rouge-2': {'r': 0.0, 'p': 0.0, 'f': 0.0},\n",
              "  'rouge-l': {'r': 1.0, 'p': 0.5, 'f': 0.6666666622222223}}]"
            ]
          },
          "metadata": {},
          "execution_count": 6
        }
      ]
    },
    {
      "cell_type": "code",
      "source": [
        "answers = [{'predicted': 'France', 'true': 'France.'},\n",
        "           {'predicted': 'in the 10th and 11th centuries',\n",
        "            'true': '10th and 11th centuries'},\n",
        "           {'predicted': '10th and 11th centuries', 'true': '10th and 11th centuries'},\n",
        "           {'predicted': 'Denmark, Iceland and Norway',\n",
        "            'true': 'Denmark, Iceland and Norway'},\n",
        "           {'predicted': 'Rollo', 'true': 'Rollo,'}]"
      ],
      "metadata": {
        "id": "8b8LU5h1UC45"
      },
      "execution_count": null,
      "outputs": []
    },
    {
      "cell_type": "code",
      "source": [
        "model_out = [ans['predicted'] for ans in answers]\n",
        "\n",
        "reference = [ans['true'] for ans in answers]"
      ],
      "metadata": {
        "id": "aJvaeu2LUVP5"
      },
      "execution_count": null,
      "outputs": []
    },
    {
      "cell_type": "code",
      "source": [
        "rouge.get_scores(model_out, reference)"
      ],
      "metadata": {
        "colab": {
          "base_uri": "https://localhost:8080/"
        },
        "id": "7p1wfdUAZRed",
        "outputId": "1a7e9139-a5e2-4884-8b96-a0cb4dcb2237"
      },
      "execution_count": null,
      "outputs": [
        {
          "output_type": "execute_result",
          "data": {
            "text/plain": [
              "[{'rouge-1': {'r': 1.0, 'p': 1.0, 'f': 0.999999995},\n",
              "  'rouge-2': {'r': 0.0, 'p': 0.0, 'f': 0.0},\n",
              "  'rouge-l': {'r': 1.0, 'p': 1.0, 'f': 0.999999995}},\n",
              " {'rouge-1': {'r': 1.0, 'p': 0.6666666666666666, 'f': 0.7999999952000001},\n",
              "  'rouge-2': {'r': 1.0, 'p': 0.6, 'f': 0.7499999953125},\n",
              "  'rouge-l': {'r': 1.0, 'p': 0.6666666666666666, 'f': 0.7999999952000001}},\n",
              " {'rouge-1': {'r': 1.0, 'p': 1.0, 'f': 0.999999995},\n",
              "  'rouge-2': {'r': 1.0, 'p': 1.0, 'f': 0.999999995},\n",
              "  'rouge-l': {'r': 1.0, 'p': 1.0, 'f': 0.999999995}},\n",
              " {'rouge-1': {'r': 1.0, 'p': 1.0, 'f': 0.999999995},\n",
              "  'rouge-2': {'r': 1.0, 'p': 1.0, 'f': 0.999999995},\n",
              "  'rouge-l': {'r': 1.0, 'p': 1.0, 'f': 0.999999995}},\n",
              " {'rouge-1': {'r': 0.0, 'p': 0.0, 'f': 0.0},\n",
              "  'rouge-2': {'r': 0.0, 'p': 0.0, 'f': 0.0},\n",
              "  'rouge-l': {'r': 0.0, 'p': 0.0, 'f': 0.0}}]"
            ]
          },
          "metadata": {},
          "execution_count": 9
        }
      ]
    },
    {
      "cell_type": "code",
      "source": [
        "rouge.get_scores(model_out, reference, avg=True)"
      ],
      "metadata": {
        "id": "0d2b0MyEZhO6",
        "outputId": "bd8b7b64-4999-4e61-cf2c-1491e0c2872e",
        "colab": {
          "base_uri": "https://localhost:8080/"
        }
      },
      "execution_count": null,
      "outputs": [
        {
          "output_type": "execute_result",
          "data": {
            "text/plain": [
              "{'rouge-1': {'r': 0.8, 'p': 0.7333333333333333, 'f': 0.7599999960400001},\n",
              " 'rouge-2': {'r': 0.6, 'p': 0.52, 'f': 0.5499999970625},\n",
              " 'rouge-l': {'r': 0.8, 'p': 0.7333333333333333, 'f': 0.7599999960400001}}"
            ]
          },
          "metadata": {},
          "execution_count": 10
        }
      ]
    }
  ]
}